{
 "cells": [
  {
   "cell_type": "code",
   "execution_count": 5,
   "id": "e78461ec-c646-4cb1-a32d-72eec9702003",
   "metadata": {},
   "outputs": [
    {
     "name": "stdin",
     "output_type": "stream",
     "text": [
      "enter a number: 22\n"
     ]
    },
    {
     "name": "stdout",
     "output_type": "stream",
     "text": [
      "NOT WEIRD\n"
     ]
    }
   ],
   "source": [
    "n=int(input(\"enter a number:\"))\n",
    "if n>0:\n",
    "    if n%2!=0:\n",
    "        print('WEIRD')\n",
    "    elif n%2==0 and (n>=2 and n<=5):\n",
    "        print(\"NOT WEIRD\")\n",
    "    elif n%2==0 and (n>=6 and n<=20):\n",
    "        print('WEIRD')\n",
    "    elif n%2==0 and n>20:\n",
    "        print('NOT WEIRD')"
   ]
  },
  {
   "cell_type": "code",
   "execution_count": 22,
   "id": "53a7257b-697e-4e63-bbc8-e85ae9ba9f8b",
   "metadata": {},
   "outputs": [
    {
     "name": "stdin",
     "output_type": "stream",
     "text": [
      "enter a number: 5\n"
     ]
    },
    {
     "name": "stdout",
     "output_type": "stream",
     "text": [
      "WEIRD\n"
     ]
    }
   ],
   "source": [
    "n=int(input(\"enter a number:\"))\n",
    "if n>0:\n",
    "    if n%2!=0:\n",
    "        print('WEIRD')\n",
    "    elif n%2==0 and (n>=2 and n<=5):\n",
    "        print(\"NOT WEIRD\")\n",
    "    elif n%2==0 and (n>=6 and n<=20):\n",
    "        print('WEIRD')\n",
    "    elif n%2==0 and n>20:\n",
    "        print('NOT WEIRD')"
   ]
  },
  {
   "cell_type": "code",
   "execution_count": 26,
   "id": "97d5d951-eddf-4255-adf4-6f0e70811484",
   "metadata": {},
   "outputs": [
    {
     "name": "stdin",
     "output_type": "stream",
     "text": [
      "Enter the number of days :  7\n"
     ]
    },
    {
     "name": "stdout",
     "output_type": "stream",
     "text": [
      "The total fee for 7 days of book usage is: Rs. 21\n"
     ]
    }
   ],
   "source": [
    "n = int(input(\"Enter the number of days : \"))\n",
    "fee = 0\n",
    "if n<= 5:\n",
    "    fee = n * 2\n",
    "elif 6 <= n <= 10:\n",
    "    fee = n * 3\n",
    "elif 11 <= n <= 15:\n",
    "    fee = n * 4\n",
    "else: \n",
    "    fee = n * 5\n",
    "print(f\"The total fee for {n} days of book usage is: Rs. {fee}\")\n"
   ]
  },
  {
   "cell_type": "code",
   "execution_count": 52,
   "id": "3647d49b-b61a-4ba6-a92b-e899a443ae22",
   "metadata": {},
   "outputs": [
    {
     "name": "stdin",
     "output_type": "stream",
     "text": [
      "enter the character: a\n"
     ]
    },
    {
     "name": "stdout",
     "output_type": "stream",
     "text": [
      "a is a vowel\n"
     ]
    }
   ],
   "source": [
    "def is_vowel(char):\n",
    "    vowels='aeiouAEIOU'\n",
    "    if char in vowels:\n",
    "        return True\n",
    "    else:\n",
    "        return False\n",
    "char=input('enter the character:')\n",
    "if len(char)==1 and char.isalpha():\n",
    "   if is_vowel(char):\n",
    "      print(f\"{char} is a vowel\")\n",
    "   else:\n",
    "        print(f\"{char} is not a vowel\")\n",
    "else:\n",
    "     print(\"please enter a valid single alphabetic character\")\n",
    "        "
   ]
  },
  {
   "cell_type": "code",
   "execution_count": null,
   "id": "ca27728d-4083-41ee-a947-92f4504d3c61",
   "metadata": {},
   "outputs": [],
   "source": []
  },
  {
   "cell_type": "code",
   "execution_count": null,
   "id": "069b53a9-9e21-4b53-ba5d-d37dff5cffb2",
   "metadata": {},
   "outputs": [],
   "source": []
  }
 ],
 "metadata": {
  "kernelspec": {
   "display_name": "Python 3 (ipykernel)",
   "language": "python",
   "name": "python3"
  },
  "language_info": {
   "codemirror_mode": {
    "name": "ipython",
    "version": 3
   },
   "file_extension": ".py",
   "mimetype": "text/x-python",
   "name": "python",
   "nbconvert_exporter": "python",
   "pygments_lexer": "ipython3",
   "version": "3.12.4"
  }
 },
 "nbformat": 4,
 "nbformat_minor": 5
}
