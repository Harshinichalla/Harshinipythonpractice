{
 "cells": [
  {
   "cell_type": "code",
   "execution_count": 27,
   "id": "9e904052-827e-4ddf-ba4c-57ab445ea570",
   "metadata": {},
   "outputs": [
    {
     "name": "stdin",
     "output_type": "stream",
     "text": [
      "enter first number: 10\n",
      "enter second number: 3\n"
     ]
    },
    {
     "name": "stdout",
     "output_type": "stream",
     "text": [
      "Addition: 13\n",
      "Subtraction: 7\n",
      "Multiplication: 30\n",
      "Division: 3.3333333333333335\n",
      "Modulus: 1\n",
      "Exponentation: 1000\n",
      "Floor Division: 3\n"
     ]
    }
   ],
   "source": [
    "#part-1:Operators\n",
    "#Exercise-1:Arithmetic opertors\n",
    "a=int(input(\"enter first number:\"))\n",
    "b=int(input(\"enter second number:\"))\n",
    "print(\"Addition:\",a+b)\n",
    "print(\"Subtraction:\",a-b)\n",
    "print(\"Multiplication:\",a*b)\n",
    "print(\"Division:\",a/b)\n",
    "print(\"Modulus:\",a%b)\n",
    "print(\"Exponentation:\",a**b)\n",
    "print(\"Floor Division:\",a//b)\n"
   ]
  },
  {
   "cell_type": "code",
   "execution_count": 29,
   "id": "42f4cb16-53ce-4619-baed-b3e0fd078cbf",
   "metadata": {},
   "outputs": [
    {
     "name": "stdin",
     "output_type": "stream",
     "text": [
      "Enter a number: 5\n",
      "Enter a number: 4\n"
     ]
    },
    {
     "name": "stdout",
     "output_type": "stream",
     "text": [
      "First number is greter\n",
      "Both are not equal\n",
      "First number is not equal to second number\n"
     ]
    }
   ],
   "source": [
    "#Exercise-2:Comparison Operators\n",
    "a = int(input(\"Enter a number:\"))\n",
    "b = int(input(\"Enter a number:\"))\n",
    "\n",
    "if a> b:\n",
    "    print(\"First number is greter\")\n",
    "else:\n",
    "    print(\"Second number is greater\")\n",
    "\n",
    "if a == b:\n",
    "    print(\"first number equal to second number\")\n",
    "else:\n",
    "    print(\"Both are not equal\")\n",
    "\n",
    "if a <= b:\n",
    "    print(\"First number less than equal to second number\")\n",
    "else:\n",
    "    print(\"First number is not equal to second number\")  \n",
    "\n"
   ]
  },
  {
   "cell_type": "code",
   "execution_count": 3,
   "id": "c51e250c-47d5-4664-8c37-e49cfc48d86a",
   "metadata": {},
   "outputs": [
    {
     "name": "stdin",
     "output_type": "stream",
     "text": [
      "Enter  first number: 3\n",
      "Enter second number: 4\n"
     ]
    },
    {
     "name": "stdout",
     "output_type": "stream",
     "text": [
      "\n",
      "and: True or: True not: False not: False\n"
     ]
    }
   ],
   "source": [
    "#Exercise-3:Logical Operators\n",
    "first = bool(int(input(\"Enter  first number:\")))\n",
    "sec = bool(int(input(\"Enter second number:\")))\n",
    "print()\n",
    "\n",
    "r1 = first and sec\n",
    "\n",
    "r2 = first or sec\n",
    "\n",
    "r3 =  not first\n",
    "r4 = not sec\n",
    "\n",
    "print(\"and:\",r1,\"or:\",r2,\"not:\",r3,\"not:\",r4)\n",
    "\n"
   ]
  },
  {
   "cell_type": "code",
   "execution_count": 35,
   "id": "26511cc5-bd93-48f9-947a-4e75c44bf1b7",
   "metadata": {},
   "outputs": [
    {
     "name": "stdin",
     "output_type": "stream",
     "text": [
      "Enter a txt: Harshi\n"
     ]
    },
    {
     "name": "stdout",
     "output_type": "stream",
     "text": [
      "6\n",
      "First charcter: H\n",
      "Last charcter: i\n",
      "Reverse: ihsraH\n",
      "Uppercase and lowercase: HARSHI & harshi\n"
     ]
    }
   ],
   "source": [
    "#Part 2:Strings\n",
    "#Exercise-4:string Manipulation\n",
    "user = str(input(\"Enter a txt:\")) \n",
    "print(len(user))\n",
    "first_char = user[0]\n",
    "second_char = user[-1]\n",
    "print(\"First charcter:\",first_char)\n",
    "print(\"Last charcter:\",second_char)\n",
    "print(\"Reverse:\",user[::-1])\n",
    "upper_str = user.upper()\n",
    "lower_str = user.lower()\n",
    "print(\"Uppercase and lowercase:\",upper_str,\"&\",lower_str)\n",
    "\n"
   ]
  },
  {
   "cell_type": "code",
   "execution_count": 5,
   "id": "d84ab8ac-2cf0-4be6-83c6-3bf8e09d77c8",
   "metadata": {},
   "outputs": [
    {
     "name": "stdin",
     "output_type": "stream",
     "text": [
      "Enter a name: Harshini\n",
      "Enter a age: 20\n"
     ]
    },
    {
     "name": "stdout",
     "output_type": "stream",
     "text": [
      "Hello Harshini,You are 20 Years old\n"
     ]
    }
   ],
   "source": [
    "#Exercise 5:string Formatting\n",
    "name = str(input(\"Enter a name:\"))\n",
    "age = int(input(\"Enter a age:\"))\n",
    "print(f\"Hello {name},You are {age} Years old\")"
   ]
  },
  {
   "cell_type": "code",
   "execution_count": 39,
   "id": "a21afd93-7e7c-406c-82e6-2b9d31a1b70d",
   "metadata": {},
   "outputs": [
    {
     "name": "stdin",
     "output_type": "stream",
     "text": [
      "Enter a Sentence: apple\n",
      "Enter a word to search: e\n"
     ]
    },
    {
     "name": "stdout",
     "output_type": "stream",
     "text": [
      "e 4\n"
     ]
    }
   ],
   "source": [
    "#Exercise 6:substring search\n",
    "sen = input(\"Enter a Sentence:\")\n",
    "search = input(\"Enter a word to search:\")\n",
    "if search in sen:\n",
    "    position = sen.index(search)\n",
    "    print(search,position )\n",
    "else:\n",
    "    print(search)\n"
   ]
  },
  {
   "cell_type": "code",
   "execution_count": 5,
   "id": "3db11329-e26f-4f01-a9ea-1e557559a841",
   "metadata": {},
   "outputs": [
    {
     "name": "stdin",
     "output_type": "stream",
     "text": [
      "Enter number 1:  1\n",
      "Enter number 2:  2\n",
      "Enter number 3:  3\n",
      "Enter number 4:  4\n",
      "Enter number 5:  5\n"
     ]
    },
    {
     "name": "stdout",
     "output_type": "stream",
     "text": [
      "The sum of all the numbers is: 15\n",
      "The largest number is: 5\n",
      "The smallest number is: 1\n"
     ]
    }
   ],
   "source": [
    "numbers= []\n",
    "for i in range(5):\n",
    "    num = int(input(f\"Enter number {i+1}: \"))\n",
    "    numbers.append(num)\n",
    "total_sum = sum(numbers)\n",
    "print(f\"The sum of all the numbers is: {total_sum}\")\n",
    "largest = max(numbers)\n",
    "smallest = min(numbers)\n",
    "print(f\"The largest number is: {largest}\")\n",
    "print(f\"The smallest number is: {smallest}\")"
   ]
  },
  {
   "cell_type": "code",
   "execution_count": 51,
   "id": "0ace0737-5a9e-462a-a51e-c02ae7907e5f",
   "metadata": {},
   "outputs": [
    {
     "name": "stdout",
     "output_type": "stream",
     "text": [
      "['Banana', 'Apple', 'Kiwi', 'Avocado', 'Grapes', 'Mango']\n"
     ]
    }
   ],
   "source": [
    "#Exercise 8:List Manipulation\n",
    "fruits = [\"Banana\",\"Apple\",\"Kiwi\",\"Avocado\",\"Grapes\"]\n",
    "fruits.insert(5,\"Mango\")\n",
    "print(fruits)"
   ]
  },
  {
   "cell_type": "code",
   "execution_count": 57,
   "id": "9fe4bb12-63a5-4b50-8a8b-027adc796043",
   "metadata": {},
   "outputs": [
    {
     "name": "stdout",
     "output_type": "stream",
     "text": [
      "Ascending_Order: [22, 33, 44, 55, 66]\n",
      "Descending_Order: [66, 55, 44, 33, 22]\n"
     ]
    }
   ],
   "source": [
    "#Exercise 9:sorting a list\n",
    "num = [22,44,66,55,33]\n",
    "descending = sorted(num,reverse=True)\n",
    "ascending = sorted(num,reverse=False)\n",
    "\n",
    "print(\"Ascending_Order:\",ascending)\n",
    "print(\"Descending_Order:\",descending)\n"
   ]
  },
  {
   "cell_type": "code",
   "execution_count": 59,
   "id": "34f7680f-0ebb-4ea1-b796-a2757a4036d6",
   "metadata": {},
   "outputs": [
    {
     "name": "stdout",
     "output_type": "stream",
     "text": [
      "First 5 elements: [1, 2, 3, 4, 5]\n",
      "last 5 elements: [6, 7, 8, 9, 10]\n",
      "Index 2 to index 7: [3, 4, 5, 6, 7, 8]\n"
     ]
    }
   ],
   "source": [
    "#Exercise 10:List Slicing\n",
    "num = [1, 2, 3, 4, 5, 6, 7, 8, 9, 10]\n",
    "print(\"First 5 elements:\",num[:5])\n",
    "print(\"last 5 elements:\",num[-5::])\n",
    "print(\"Index 2 to index 7:\",num[2:8])"
   ]
  },
  {
   "cell_type": "code",
   "execution_count": 61,
   "id": "ddab55e7-580b-4f0c-ac30-34fb28f89d33",
   "metadata": {},
   "outputs": [
    {
     "name": "stdout",
     "output_type": "stream",
     "text": [
      "['Harshi', 'Suchi', 'Jaya', 85, 89, 91]\n"
     ]
    }
   ],
   "source": [
    "#Bonus Challenge\n",
    "#Exercise 11:Nested List\n",
    "student_names = [\"Harshi\",\"Suchi\",\"Jaya\"]\n",
    "student_marks = [85,89,91]\n",
    "add = student_names+student_marks\n",
    "print(add)\n"
   ]
  },
  {
   "cell_type": "code",
   "execution_count": null,
   "id": "e4a54242-9c15-4ddc-bed4-b989d9d1acc4",
   "metadata": {},
   "outputs": [],
   "source": []
  }
 ],
 "metadata": {
  "kernelspec": {
   "display_name": "Python 3 (ipykernel)",
   "language": "python",
   "name": "python3"
  },
  "language_info": {
   "codemirror_mode": {
    "name": "ipython",
    "version": 3
   },
   "file_extension": ".py",
   "mimetype": "text/x-python",
   "name": "python",
   "nbconvert_exporter": "python",
   "pygments_lexer": "ipython3",
   "version": "3.12.4"
  }
 },
 "nbformat": 4,
 "nbformat_minor": 5
}
